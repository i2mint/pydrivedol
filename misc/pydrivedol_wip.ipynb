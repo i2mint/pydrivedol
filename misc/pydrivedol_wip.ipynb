{
 "cells": [
  {
   "cell_type": "code",
   "execution_count": null,
   "id": "2d464dfb",
   "metadata": {},
   "outputs": [],
   "source": []
  },
  {
   "cell_type": "code",
   "execution_count": null,
   "id": "55637d3e",
   "metadata": {},
   "outputs": [],
   "source": [
    "from pydrivedol import get_bytes\n",
    "\n",
    "# Download public file\n",
    "url = \"https://drive.google.com/file/d/11y3XOkmCr1Inz25HdpR_6HDMews5AWXa/view?usp=sharing\"\n",
    "content = get_bytes(url)\n"
   ]
  },
  {
   "cell_type": "code",
   "execution_count": 2,
   "id": "6dab1a51",
   "metadata": {},
   "outputs": [
    {
     "data": {
      "text/plain": [
       "b'# This is a title\\n\\n# This is Heading 1\\n\\n## This is Heading 2\\n\\nThis is some normal text.  \\n**This is bold text.**  \\n*This is italics text.*  \\n***This is both bold and italics.***  \\nThis is normal text in a different font.'"
      ]
     },
     "execution_count": 2,
     "metadata": {},
     "output_type": "execute_result"
    }
   ],
   "source": [
    "content"
   ]
  },
  {
   "cell_type": "code",
   "execution_count": 4,
   "id": "04bcc299",
   "metadata": {},
   "outputs": [
    {
     "name": "stdout",
     "output_type": "stream",
     "text": [
      "/var/folders/mc/c070wfh51kxd9lft8dl74q1r0000gn/T/tmp8mw35dd7\n"
     ]
    }
   ],
   "source": [
    "# Save to temp file\n",
    "temp_path = get_bytes(url, local_path=True)\n",
    "print(temp_path)\n"
   ]
  },
  {
   "cell_type": "code",
   "execution_count": null,
   "id": "de44d5d9",
   "metadata": {},
   "outputs": [],
   "source": []
  },
  {
   "cell_type": "code",
   "execution_count": null,
   "id": "58c80ab4",
   "metadata": {},
   "outputs": [],
   "source": [
    "\n",
    "# Save to specific path\n",
    "# get_bytes(url, local_path='/path/to/save.pdf')\n",
    "\n",
    "# With caching\n",
    "# get_bytes(url, use_cache=True)  # Uses ~/.cache/pydrivedol/cached/"
   ]
  },
  {
   "cell_type": "code",
   "execution_count": null,
   "id": "0921ddfa",
   "metadata": {},
   "outputs": [],
   "source": []
  },
  {
   "cell_type": "code",
   "execution_count": null,
   "id": "b9aa77cf",
   "metadata": {},
   "outputs": [],
   "source": []
  }
 ],
 "metadata": {
  "kernelspec": {
   "display_name": "p12",
   "language": "python",
   "name": "python3"
  },
  "language_info": {
   "codemirror_mode": {
    "name": "ipython",
    "version": 3
   },
   "file_extension": ".py",
   "mimetype": "text/x-python",
   "name": "python",
   "nbconvert_exporter": "python",
   "pygments_lexer": "ipython3",
   "version": "3.12.12"
  }
 },
 "nbformat": 4,
 "nbformat_minor": 5
}
